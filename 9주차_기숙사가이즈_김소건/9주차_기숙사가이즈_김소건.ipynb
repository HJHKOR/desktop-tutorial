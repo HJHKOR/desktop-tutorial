{
 "cells": [
  {
   "cell_type": "markdown",
   "id": "85ad3089-301c-4df3-a251-2ff84b558fd1",
   "metadata": {},
   "source": [
    "이번 주에는 지표를 하나 더 불러오고 종합하기로 했습니다."
   ]
  },
  {
   "cell_type": "code",
   "execution_count": 19,
   "id": "a670f6fe-9512-4a44-8639-cc49a0a87214",
   "metadata": {
    "tags": []
   },
   "outputs": [
    {
     "data": {
      "text/html": [
       "<div>\n",
       "<style scoped>\n",
       "    .dataframe tbody tr th:only-of-type {\n",
       "        vertical-align: middle;\n",
       "    }\n",
       "\n",
       "    .dataframe tbody tr th {\n",
       "        vertical-align: top;\n",
       "    }\n",
       "\n",
       "    .dataframe thead th {\n",
       "        text-align: right;\n",
       "    }\n",
       "</style>\n",
       "<table border=\"1\" class=\"dataframe\">\n",
       "  <thead>\n",
       "    <tr style=\"text-align: right;\">\n",
       "      <th></th>\n",
       "      <th>행정구역별</th>\n",
       "      <th>도로포장률&lt;br&gt;(A÷B×100) (%)</th>\n",
       "      <th>포장도로&lt;br&gt;(A) (m)</th>\n",
       "      <th>전체개통도&lt;br&gt;(B) (m)</th>\n",
       "    </tr>\n",
       "  </thead>\n",
       "  <tbody>\n",
       "    <tr>\n",
       "      <th>0</th>\n",
       "      <td>전국</td>\n",
       "      <td>95.2</td>\n",
       "      <td>100472146</td>\n",
       "      <td>105562663</td>\n",
       "    </tr>\n",
       "    <tr>\n",
       "      <th>1</th>\n",
       "      <td>서울특별시</td>\n",
       "      <td>100.0</td>\n",
       "      <td>8369307</td>\n",
       "      <td>8369307</td>\n",
       "    </tr>\n",
       "    <tr>\n",
       "      <th>2</th>\n",
       "      <td>부산광역시</td>\n",
       "      <td>98.3</td>\n",
       "      <td>3454071</td>\n",
       "      <td>3512250</td>\n",
       "    </tr>\n",
       "    <tr>\n",
       "      <th>3</th>\n",
       "      <td>대구광역시</td>\n",
       "      <td>99.1</td>\n",
       "      <td>3000640</td>\n",
       "      <td>3026476</td>\n",
       "    </tr>\n",
       "    <tr>\n",
       "      <th>4</th>\n",
       "      <td>인천광역시</td>\n",
       "      <td>98.0</td>\n",
       "      <td>3274122</td>\n",
       "      <td>3340807</td>\n",
       "    </tr>\n",
       "    <tr>\n",
       "      <th>5</th>\n",
       "      <td>광주광역시</td>\n",
       "      <td>100.0</td>\n",
       "      <td>1891666</td>\n",
       "      <td>1891666</td>\n",
       "    </tr>\n",
       "    <tr>\n",
       "      <th>6</th>\n",
       "      <td>대전광역시</td>\n",
       "      <td>100.0</td>\n",
       "      <td>2174329</td>\n",
       "      <td>2174329</td>\n",
       "    </tr>\n",
       "    <tr>\n",
       "      <th>7</th>\n",
       "      <td>울산광역시</td>\n",
       "      <td>98.4</td>\n",
       "      <td>2322696</td>\n",
       "      <td>2359838</td>\n",
       "    </tr>\n",
       "    <tr>\n",
       "      <th>8</th>\n",
       "      <td>세종특별자치시</td>\n",
       "      <td>100.0</td>\n",
       "      <td>361804</td>\n",
       "      <td>361804</td>\n",
       "    </tr>\n",
       "    <tr>\n",
       "      <th>9</th>\n",
       "      <td>경기도</td>\n",
       "      <td>98.4</td>\n",
       "      <td>13627563</td>\n",
       "      <td>13844585</td>\n",
       "    </tr>\n",
       "    <tr>\n",
       "      <th>10</th>\n",
       "      <td>강원특별자치도</td>\n",
       "      <td>92.0</td>\n",
       "      <td>7974575</td>\n",
       "      <td>8671593</td>\n",
       "    </tr>\n",
       "    <tr>\n",
       "      <th>11</th>\n",
       "      <td>충청북도</td>\n",
       "      <td>93.9</td>\n",
       "      <td>6053789</td>\n",
       "      <td>6445720</td>\n",
       "    </tr>\n",
       "    <tr>\n",
       "      <th>12</th>\n",
       "      <td>충청남도</td>\n",
       "      <td>97.0</td>\n",
       "      <td>7010081</td>\n",
       "      <td>7223482</td>\n",
       "    </tr>\n",
       "    <tr>\n",
       "      <th>13</th>\n",
       "      <td>전라북도</td>\n",
       "      <td>88.7</td>\n",
       "      <td>6923704</td>\n",
       "      <td>7807057</td>\n",
       "    </tr>\n",
       "    <tr>\n",
       "      <th>14</th>\n",
       "      <td>전라남도</td>\n",
       "      <td>93.7</td>\n",
       "      <td>9078034</td>\n",
       "      <td>9688942</td>\n",
       "    </tr>\n",
       "    <tr>\n",
       "      <th>15</th>\n",
       "      <td>경상북도</td>\n",
       "      <td>91.4</td>\n",
       "      <td>11552026</td>\n",
       "      <td>12641367</td>\n",
       "    </tr>\n",
       "    <tr>\n",
       "      <th>16</th>\n",
       "      <td>경상남도</td>\n",
       "      <td>93.2</td>\n",
       "      <td>10530289</td>\n",
       "      <td>11304542</td>\n",
       "    </tr>\n",
       "    <tr>\n",
       "      <th>17</th>\n",
       "      <td>제주특별자치도</td>\n",
       "      <td>99.1</td>\n",
       "      <td>2873450</td>\n",
       "      <td>2898898</td>\n",
       "    </tr>\n",
       "  </tbody>\n",
       "</table>\n",
       "</div>"
      ],
      "text/plain": [
       "      행정구역별  도로포장률<br>(A÷B×100) (%)  포장도로<br>(A) (m)  전체개통도<br>(B) (m)\n",
       "0        전국                    95.2        100472146         105562663\n",
       "1     서울특별시                   100.0          8369307           8369307\n",
       "2     부산광역시                    98.3          3454071           3512250\n",
       "3     대구광역시                    99.1          3000640           3026476\n",
       "4     인천광역시                    98.0          3274122           3340807\n",
       "5     광주광역시                   100.0          1891666           1891666\n",
       "6     대전광역시                   100.0          2174329           2174329\n",
       "7     울산광역시                    98.4          2322696           2359838\n",
       "8   세종특별자치시                   100.0           361804            361804\n",
       "9       경기도                    98.4         13627563          13844585\n",
       "10  강원특별자치도                    92.0          7974575           8671593\n",
       "11     충청북도                    93.9          6053789           6445720\n",
       "12     충청남도                    97.0          7010081           7223482\n",
       "13     전라북도                    88.7          6923704           7807057\n",
       "14     전라남도                    93.7          9078034           9688942\n",
       "15     경상북도                    91.4         11552026          12641367\n",
       "16     경상남도                    93.2         10530289          11304542\n",
       "17  제주특별자치도                    99.1          2873450           2898898"
      ]
     },
     "execution_count": 19,
     "metadata": {},
     "output_type": "execute_result"
    }
   ],
   "source": [
    "import pandas as pd\n",
    "\n",
    "road_2022 = pd.read_csv('c:/analysis/road_2022.csv', encoding = 'euc-kr', header = 1)\n",
    "\n",
    "road_2022"
   ]
  },
  {
   "cell_type": "code",
   "execution_count": 20,
   "id": "cf55918a-b168-4c29-9e5c-2562394aa58a",
   "metadata": {
    "tags": []
   },
   "outputs": [
    {
     "name": "stderr",
     "output_type": "stream",
     "text": [
      "C:\\Users\\Kim So Keon\\AppData\\Local\\Temp\\ipykernel_11732\\1644492516.py:2: SettingWithCopyWarning: \n",
      "A value is trying to be set on a copy of a slice from a DataFrame.\n",
      "Try using .loc[row_indexer,col_indexer] = value instead\n",
      "\n",
      "See the caveats in the documentation: https://pandas.pydata.org/pandas-docs/stable/user_guide/indexing.html#returning-a-view-versus-a-copy\n",
      "  road_metro_2022['지역'] = ['부산', '대구', '인천', '광주', '대전', '울산']\n"
     ]
    },
    {
     "data": {
      "text/html": [
       "<div>\n",
       "<style scoped>\n",
       "    .dataframe tbody tr th:only-of-type {\n",
       "        vertical-align: middle;\n",
       "    }\n",
       "\n",
       "    .dataframe tbody tr th {\n",
       "        vertical-align: top;\n",
       "    }\n",
       "\n",
       "    .dataframe thead th {\n",
       "        text-align: right;\n",
       "    }\n",
       "</style>\n",
       "<table border=\"1\" class=\"dataframe\">\n",
       "  <thead>\n",
       "    <tr style=\"text-align: right;\">\n",
       "      <th></th>\n",
       "      <th>행정구역별</th>\n",
       "      <th>도로포장률&lt;br&gt;(A÷B×100) (%)</th>\n",
       "      <th>포장도로&lt;br&gt;(A) (m)</th>\n",
       "      <th>전체개통도&lt;br&gt;(B) (m)</th>\n",
       "      <th>지역</th>\n",
       "    </tr>\n",
       "  </thead>\n",
       "  <tbody>\n",
       "    <tr>\n",
       "      <th>2</th>\n",
       "      <td>부산광역시</td>\n",
       "      <td>98.3</td>\n",
       "      <td>3454071</td>\n",
       "      <td>3512250</td>\n",
       "      <td>부산</td>\n",
       "    </tr>\n",
       "    <tr>\n",
       "      <th>3</th>\n",
       "      <td>대구광역시</td>\n",
       "      <td>99.1</td>\n",
       "      <td>3000640</td>\n",
       "      <td>3026476</td>\n",
       "      <td>대구</td>\n",
       "    </tr>\n",
       "    <tr>\n",
       "      <th>4</th>\n",
       "      <td>인천광역시</td>\n",
       "      <td>98.0</td>\n",
       "      <td>3274122</td>\n",
       "      <td>3340807</td>\n",
       "      <td>인천</td>\n",
       "    </tr>\n",
       "    <tr>\n",
       "      <th>5</th>\n",
       "      <td>광주광역시</td>\n",
       "      <td>100.0</td>\n",
       "      <td>1891666</td>\n",
       "      <td>1891666</td>\n",
       "      <td>광주</td>\n",
       "    </tr>\n",
       "    <tr>\n",
       "      <th>6</th>\n",
       "      <td>대전광역시</td>\n",
       "      <td>100.0</td>\n",
       "      <td>2174329</td>\n",
       "      <td>2174329</td>\n",
       "      <td>대전</td>\n",
       "    </tr>\n",
       "    <tr>\n",
       "      <th>7</th>\n",
       "      <td>울산광역시</td>\n",
       "      <td>98.4</td>\n",
       "      <td>2322696</td>\n",
       "      <td>2359838</td>\n",
       "      <td>울산</td>\n",
       "    </tr>\n",
       "  </tbody>\n",
       "</table>\n",
       "</div>"
      ],
      "text/plain": [
       "   행정구역별  도로포장률<br>(A÷B×100) (%)  포장도로<br>(A) (m)  전체개통도<br>(B) (m)  지역\n",
       "2  부산광역시                    98.3          3454071           3512250  부산\n",
       "3  대구광역시                    99.1          3000640           3026476  대구\n",
       "4  인천광역시                    98.0          3274122           3340807  인천\n",
       "5  광주광역시                   100.0          1891666           1891666  광주\n",
       "6  대전광역시                   100.0          2174329           2174329  대전\n",
       "7  울산광역시                    98.4          2322696           2359838  울산"
      ]
     },
     "execution_count": 20,
     "metadata": {},
     "output_type": "execute_result"
    }
   ],
   "source": [
    "road_metro_2022 = road_2022.loc[2:7]\n",
    "road_metro_2022['지역'] = ['부산', '대구', '인천', '광주', '대전', '울산']\n",
    "road_metro_2022"
   ]
  },
  {
   "cell_type": "code",
   "execution_count": 21,
   "id": "6ba9e29d-6bfa-441a-98d1-f837f2b8ec15",
   "metadata": {
    "tags": []
   },
   "outputs": [
    {
     "name": "stderr",
     "output_type": "stream",
     "text": [
      "C:\\Users\\Kim So Keon\\AppData\\Local\\Temp\\ipykernel_11732\\2073687792.py:1: SettingWithCopyWarning: \n",
      "A value is trying to be set on a copy of a slice from a DataFrame.\n",
      "Try using .loc[row_indexer,col_indexer] = value instead\n",
      "\n",
      "See the caveats in the documentation: https://pandas.pydata.org/pandas-docs/stable/user_guide/indexing.html#returning-a-view-versus-a-copy\n",
      "  road_metro_2022['도로포장률']=road_metro_2022['도로포장률<br>(A÷B×100) (%)']\n"
     ]
    },
    {
     "data": {
      "text/html": [
       "<div>\n",
       "<style scoped>\n",
       "    .dataframe tbody tr th:only-of-type {\n",
       "        vertical-align: middle;\n",
       "    }\n",
       "\n",
       "    .dataframe tbody tr th {\n",
       "        vertical-align: top;\n",
       "    }\n",
       "\n",
       "    .dataframe thead th {\n",
       "        text-align: right;\n",
       "    }\n",
       "</style>\n",
       "<table border=\"1\" class=\"dataframe\">\n",
       "  <thead>\n",
       "    <tr style=\"text-align: right;\">\n",
       "      <th></th>\n",
       "      <th>포장도로&lt;br&gt;(A) (m)</th>\n",
       "      <th>전체개통도&lt;br&gt;(B) (m)</th>\n",
       "      <th>지역</th>\n",
       "      <th>도로포장률</th>\n",
       "    </tr>\n",
       "  </thead>\n",
       "  <tbody>\n",
       "    <tr>\n",
       "      <th>2</th>\n",
       "      <td>3454071</td>\n",
       "      <td>3512250</td>\n",
       "      <td>부산</td>\n",
       "      <td>98.3</td>\n",
       "    </tr>\n",
       "    <tr>\n",
       "      <th>3</th>\n",
       "      <td>3000640</td>\n",
       "      <td>3026476</td>\n",
       "      <td>대구</td>\n",
       "      <td>99.1</td>\n",
       "    </tr>\n",
       "    <tr>\n",
       "      <th>4</th>\n",
       "      <td>3274122</td>\n",
       "      <td>3340807</td>\n",
       "      <td>인천</td>\n",
       "      <td>98.0</td>\n",
       "    </tr>\n",
       "    <tr>\n",
       "      <th>5</th>\n",
       "      <td>1891666</td>\n",
       "      <td>1891666</td>\n",
       "      <td>광주</td>\n",
       "      <td>100.0</td>\n",
       "    </tr>\n",
       "    <tr>\n",
       "      <th>6</th>\n",
       "      <td>2174329</td>\n",
       "      <td>2174329</td>\n",
       "      <td>대전</td>\n",
       "      <td>100.0</td>\n",
       "    </tr>\n",
       "    <tr>\n",
       "      <th>7</th>\n",
       "      <td>2322696</td>\n",
       "      <td>2359838</td>\n",
       "      <td>울산</td>\n",
       "      <td>98.4</td>\n",
       "    </tr>\n",
       "  </tbody>\n",
       "</table>\n",
       "</div>"
      ],
      "text/plain": [
       "   포장도로<br>(A) (m)  전체개통도<br>(B) (m)  지역  도로포장률\n",
       "2          3454071           3512250  부산   98.3\n",
       "3          3000640           3026476  대구   99.1\n",
       "4          3274122           3340807  인천   98.0\n",
       "5          1891666           1891666  광주  100.0\n",
       "6          2174329           2174329  대전  100.0\n",
       "7          2322696           2359838  울산   98.4"
      ]
     },
     "execution_count": 21,
     "metadata": {},
     "output_type": "execute_result"
    }
   ],
   "source": [
    "road_metro_2022['도로포장률']=road_metro_2022['도로포장률<br>(A÷B×100) (%)']\n",
    "road_metro_2022.drop(columns = ['도로포장률<br>(A÷B×100) (%)','행정구역별'])"
   ]
  },
  {
   "cell_type": "code",
   "execution_count": 22,
   "id": "df9f9ba5-74ad-4829-96f0-050fdf2ef886",
   "metadata": {
    "tags": []
   },
   "outputs": [],
   "source": [
    "import matplotlib.pyplot as plt\n",
    "\n",
    "plt.rcParams[\"font.family\"] = 'Malgun Gothic'"
   ]
  },
  {
   "cell_type": "code",
   "execution_count": 23,
   "id": "cdbb1740-cfdd-49af-af26-eb9ffabc7bdc",
   "metadata": {
    "tags": []
   },
   "outputs": [],
   "source": [
    "import plotly.graph_objects as go"
   ]
  },
  {
   "cell_type": "code",
   "execution_count": 24,
   "id": "6d5db86f-e7a5-4414-a17e-9ae41ccefde1",
   "metadata": {
    "tags": []
   },
   "outputs": [
    {
     "data": {
      "text/plain": [
       "<Axes: title={'center': '도로포장률'}, xlabel='지역', ylabel='도로포장률'>"
      ]
     },
     "execution_count": 24,
     "metadata": {},
     "output_type": "execute_result"
    },
    {
     "data": {
      "image/png": "[encoded data removed]",
      "text/plain": [
       "<Figure size 640x480 with 1 Axes>"
      ]
     },
     "metadata": {},
     "output_type": "display_data"
    }
   ],
   "source": [
    "road_metro_2022.plot.bar(x='지역', y='도로포장률<br>(A÷B×100) (%)',\n",
    "                        title = \"도로포장률\", xlabel = \"지역\", ylabel = \"도로포장률\", legend = False)"
   ]
  },
  {
   "cell_type": "markdown",
   "id": "2d23fe60-f341-45b5-9b8b-5c1aceeafd47",
   "metadata": {
    "tags": []
   },
   "source": [
    "지금까지 확인했던 모든 지표를 불러와 랭킹으로 정렬했습니다."
   ]
  },
  {
   "cell_type": "code",
   "execution_count": 25,
   "id": "a3401fbd-3b0c-4159-8eae-6df6b900d69c",
   "metadata": {
    "tags": []
   },
   "outputs": [],
   "source": [
    "crime_total_pop_2020 = pd.read_csv('c:/analysis/crime_total_pop_2020.csv', encoding = 'euc-kr')\n",
    "policeOffice_in_area = pd.read_csv('c:/analysis/policeOffice_in_area.csv', encoding = 'euc-kr')"
   ]
  },
  {
   "cell_type": "code",
   "execution_count": 27,
   "id": "de74c51a-1699-4cd1-93d0-3d30e1a65088",
   "metadata": {
    "tags": []
   },
   "outputs": [],
   "source": [
    "rank_road_metro_2022 = road_metro_2022.sort_values(by = ['도로포장률'], ascending = False).copy()\n",
    "rank_crime_total_pop_2020 = crime_total_pop_2020.sort_values(by = ['범죄율 (발생건수/인구, %)'], ascending = False).copy()\n",
    "rank_policeOffice_in_area = policeOffice_in_area.sort_values(by = ['면적 당 경찰관서 수'], ascending = False).copy()"
   ]
  },
  {
   "cell_type": "code",
   "execution_count": 29,
   "id": "38227792-7ffc-4f7a-945e-dbcfbbcd9a79",
   "metadata": {
    "tags": []
   },
   "outputs": [
    {
     "data": {
      "text/plain": [
       "<Axes: title={'center': '치안시설 수'}, xlabel='지역', ylabel='면적 당 경찰관서 수'>"
      ]
     },
     "execution_count": 29,
     "metadata": {},
     "output_type": "execute_result"
    },
    {
     "name": "stderr",
     "output_type": "stream",
     "text": [
      "C:\\ProgramData\\anaconda3\\Lib\\site-packages\\IPython\\core\\events.py:89: UserWarning: Glyph 8722 (\\N{MINUS SIGN}) missing from current font.\n",
      "  func(*args, **kwargs)\n"
     ]
    },
    {
     "data": {
      "image/png": "[encoded data removed]",
      "text/plain": [
       "<Figure size 640x480 with 1 Axes>"
      ]
     },
     "metadata": {},
     "output_type": "display_data"
    },
    {
     "data": {
      "image/png": "[encoded data removed]",
      "text/plain": [
       "<Figure size 640x480 with 1 Axes>"
      ]
     },
     "metadata": {},
     "output_type": "display_data"
    },
    {
     "name": "stderr",
     "output_type": "stream",
     "text": [
      "C:\\ProgramData\\anaconda3\\Lib\\site-packages\\IPython\\core\\pylabtools.py:152: UserWarning: Glyph 8722 (\\N{MINUS SIGN}) missing from current font.\n",
      "  fig.canvas.print_figure(bytes_io, **kw)\n"
     ]
    },
    {
     "data": {
      "image/png": "[encoded data removed]",
      "text/plain": [
       "<Figure size 640x480 with 1 Axes>"
      ]
     },
     "metadata": {},
     "output_type": "display_data"
    }
   ],
   "source": [
    "rank_road_metro_2022.plot.bar(x='지역', y='도로포장률',\n",
    "                        title = \"도로포장률\", xlabel = \"지역\", ylabel = \"도로포장률\", legend = False)\n",
    "\n",
    "rank_crime_total_pop_2020.plot.bar(x='지역', y='범죄율 (발생건수/인구, %)',\n",
    "                                  title = \"범죄율\", xlabel = \"지역\", ylabel = \"범죄율 (발생건수/인구, %)\", legend = False)\n",
    "\n",
    "rank_policeOffice_in_area.plot.bar(x='지역', y='면적 당 경찰관서 수',\n",
    "                                  title = \"치안시설 수\", xlabel = \"지역\", ylabel = \"면적 당 경찰관서 수\", legend = False)"
   ]
  },
  {
   "cell_type": "code",
   "execution_count": 34,
   "id": "6b0273ab-5ccc-46d6-a7a4-26e979ed21e5",
   "metadata": {
    "tags": []
   },
   "outputs": [
    {
     "name": "stderr",
     "output_type": "stream",
     "text": [
      "C:\\Users\\Kim So Keon\\AppData\\Local\\Temp\\ipykernel_11732\\2119844823.py:1: SettingWithCopyWarning: \n",
      "A value is trying to be set on a copy of a slice from a DataFrame.\n",
      "Try using .loc[row_indexer,col_indexer] = value instead\n",
      "\n",
      "See the caveats in the documentation: https://pandas.pydata.org/pandas-docs/stable/user_guide/indexing.html#returning-a-view-versus-a-copy\n",
      "  road_metro_2022['순위']=road_metro_2022['도로포장률'].rank(method='min', ascending=False)\n"
     ]
    }
   ],
   "source": [
    "road_metro_2022['순위']=road_metro_2022['도로포장률'].rank(method='min', ascending=False)\n",
    "crime_total_pop_2020['순위']=crime_total_pop_2020['범죄율 (발생건수/인구, %)'].rank(method='min')\n",
    "policeOffice_in_area['순위']=policeOffice_in_area['면적 당 경찰관서 수'].rank(method='min', ascending=False)"
   ]
  },
  {
   "cell_type": "code",
   "execution_count": 35,
   "id": "6391ae1a-b838-4b6f-81ed-9da096164633",
   "metadata": {
    "tags": []
   },
   "outputs": [],
   "source": [
    "road_metro_2022[['지역','도로포장률','순위']].to_csv('c:/analysis/교통_도로포장률.csv', encoding='euc-kr', index=False)\n",
    "crime_total_pop_2020[['지역','범죄율 (발생건수/인구, %)','순위']].to_csv('c:/analysis/치안_범죄율.csv', encoding='euc-kr', index=False)\n",
    "policeOffice_in_area[['지역','면적 당 경찰관서 수','순위']].to_csv('c:/analysis/치안_경찰관서수.csv', encoding='euc-kr', index=False)"
   ]
  },
  {
   "cell_type": "code",
   "execution_count": null,
   "id": "99e9e9b9-a002-4f1a-b7a8-87b098e1ba07",
   "metadata": {},
   "outputs": [],
   "source": []
  }
 ],
 "metadata": {
  "kernelspec": {
   "display_name": "Python 3 (ipykernel)",
   "language": "python",
   "name": "python3"
  },
  "language_info": {
   "codemirror_mode": {
    "name": "ipython",
    "version": 3
   },
   "file_extension": ".py",
   "mimetype": "text/x-python",
   "name": "python",
   "nbconvert_exporter": "python",
   "pygments_lexer": "ipython3",
   "version": "3.11.4"
  }
 },
 "nbformat": 4,
 "nbformat_minor": 5
}
